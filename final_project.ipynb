{
 "cells": [
  {
   "cell_type": "code",
   "execution_count": 1,
   "metadata": {},
   "outputs": [],
   "source": [
    "import pandas as pd\n",
    "import numpy as np\n",
    "import matplotlib.pyplot as plt\n",
    "import seaborn as sns"
   ]
  },
  {
   "cell_type": "code",
   "execution_count": 2,
   "metadata": {},
   "outputs": [],
   "source": [
    "def addquery():\n",
    "    list=[]\n",
    "    a=input('Enter the desired google trends query. Enter finish when done.')\n",
    "    while a!='finish':\n",
    "        list.append(a)\n",
    "        a=input('Keep adding google trends queries. Enter finish when done.')\n",
    "    df=pd.DataFrame(list)\n",
    "    df.to_csv('google.csv', mode='a', index=False, header=False)"
   ]
  },
  {
   "cell_type": "code",
   "execution_count": 3,
   "metadata": {},
   "outputs": [],
   "source": [
    "addquery()"
   ]
  },
  {
   "cell_type": "code",
   "execution_count": 16,
   "metadata": {},
   "outputs": [
    {
     "data": {
      "text/html": [
       "<div>\n",
       "<style scoped>\n",
       "    .dataframe tbody tr th:only-of-type {\n",
       "        vertical-align: middle;\n",
       "    }\n",
       "\n",
       "    .dataframe tbody tr th {\n",
       "        vertical-align: top;\n",
       "    }\n",
       "\n",
       "    .dataframe thead th {\n",
       "        text-align: right;\n",
       "    }\n",
       "</style>\n",
       "<table border=\"1\" class=\"dataframe\">\n",
       "  <thead>\n",
       "    <tr style=\"text-align: right;\">\n",
       "      <th></th>\n",
       "      <th>0</th>\n",
       "    </tr>\n",
       "  </thead>\n",
       "  <tbody>\n",
       "    <tr>\n",
       "      <th>0</th>\n",
       "      <td>Election results</td>\n",
       "    </tr>\n",
       "    <tr>\n",
       "      <th>1</th>\n",
       "      <td>Coronavirus</td>\n",
       "    </tr>\n",
       "    <tr>\n",
       "      <th>2</th>\n",
       "      <td>Kobe Bryant</td>\n",
       "    </tr>\n",
       "    <tr>\n",
       "      <th>3</th>\n",
       "      <td>Coronavirus update</td>\n",
       "    </tr>\n",
       "    <tr>\n",
       "      <th>4</th>\n",
       "      <td>Coronavirus symptoms</td>\n",
       "    </tr>\n",
       "    <tr>\n",
       "      <th>5</th>\n",
       "      <td>Zoom</td>\n",
       "    </tr>\n",
       "    <tr>\n",
       "      <th>6</th>\n",
       "      <td>Who is winning the election</td>\n",
       "    </tr>\n",
       "    <tr>\n",
       "      <th>7</th>\n",
       "      <td>Naya Rivera</td>\n",
       "    </tr>\n",
       "    <tr>\n",
       "      <th>8</th>\n",
       "      <td>Chadwick Boseman</td>\n",
       "    </tr>\n",
       "    <tr>\n",
       "      <th>9</th>\n",
       "      <td>PlayStation 5</td>\n",
       "    </tr>\n",
       "    <tr>\n",
       "      <th>10</th>\n",
       "      <td>NBA</td>\n",
       "    </tr>\n",
       "    <tr>\n",
       "      <th>11</th>\n",
       "      <td>DMX</td>\n",
       "    </tr>\n",
       "    <tr>\n",
       "      <th>12</th>\n",
       "      <td>Gabby Petito</td>\n",
       "    </tr>\n",
       "    <tr>\n",
       "      <th>13</th>\n",
       "      <td>Kyle Rittenhouse</td>\n",
       "    </tr>\n",
       "    <tr>\n",
       "      <th>14</th>\n",
       "      <td>Brian Laundrie</td>\n",
       "    </tr>\n",
       "    <tr>\n",
       "      <th>15</th>\n",
       "      <td>Mega Millions</td>\n",
       "    </tr>\n",
       "    <tr>\n",
       "      <th>16</th>\n",
       "      <td>AMC Stock</td>\n",
       "    </tr>\n",
       "    <tr>\n",
       "      <th>17</th>\n",
       "      <td>Stimulus Check</td>\n",
       "    </tr>\n",
       "    <tr>\n",
       "      <th>18</th>\n",
       "      <td>Georgia Senate Race</td>\n",
       "    </tr>\n",
       "    <tr>\n",
       "      <th>19</th>\n",
       "      <td>Squid Game</td>\n",
       "    </tr>\n",
       "  </tbody>\n",
       "</table>\n",
       "</div>"
      ],
      "text/plain": [
       "                               0\n",
       "0               Election results\n",
       "1                    Coronavirus\n",
       "2                    Kobe Bryant\n",
       "3             Coronavirus update\n",
       "4           Coronavirus symptoms\n",
       "5                           Zoom\n",
       "6    Who is winning the election\n",
       "7                    Naya Rivera\n",
       "8               Chadwick Boseman\n",
       "9                  PlayStation 5\n",
       "10                           NBA\n",
       "11                           DMX\n",
       "12                  Gabby Petito\n",
       "13              Kyle Rittenhouse\n",
       "14                Brian Laundrie\n",
       "15                 Mega Millions\n",
       "16                     AMC Stock\n",
       "17                Stimulus Check\n",
       "18           Georgia Senate Race\n",
       "19                    Squid Game"
      ]
     },
     "execution_count": 16,
     "metadata": {},
     "output_type": "execute_result"
    }
   ],
   "source": [
    "kw_list=pd.read_csv('google.csv')\n",
    "kw_list"
   ]
  },
  {
   "cell_type": "code",
   "execution_count": 22,
   "metadata": {},
   "outputs": [],
   "source": [
    "# kw_list1=kw_list['0'].iloc[:5].to_list()\n",
    "# kw_list2=kw_list['0'].iloc[5:10].to_list()\n",
    "# kw_list3=kw_list['0'].iloc[10:15].to_list()\n",
    "# kw_list4=kw_list['0'].iloc[15:].to_list()\n",
    "# list_kwlist=['kw_list1','kw_list2','kw_list3','kw_list4']"
   ]
  },
  {
   "cell_type": "code",
   "execution_count": 43,
   "metadata": {},
   "outputs": [],
   "source": [
    "df_us_states=pd.read_csv('us_states.csv',header=None)\n",
    "df_us_states.rename(columns={0:'state'},inplace=True)"
   ]
  },
  {
   "cell_type": "code",
   "execution_count": 46,
   "metadata": {},
   "outputs": [
    {
     "data": {
      "text/plain": [
       "['US-AL',\n",
       " 'US-AK',\n",
       " 'US-AZ',\n",
       " 'US-AR',\n",
       " 'US-CA',\n",
       " 'US-CO',\n",
       " 'US-CT',\n",
       " 'US-DE',\n",
       " 'US-FL',\n",
       " 'US-GA',\n",
       " 'US-HI',\n",
       " 'US-ID',\n",
       " 'US-IL',\n",
       " 'US-IN',\n",
       " 'US-IA',\n",
       " 'US-KS',\n",
       " 'US-KY',\n",
       " 'US-LA',\n",
       " 'US-ME',\n",
       " 'US-MD',\n",
       " 'US-MA',\n",
       " 'US-MI',\n",
       " 'US-MN',\n",
       " 'US-MS',\n",
       " 'US-MO',\n",
       " 'US-MT',\n",
       " 'US-NE',\n",
       " 'US-NV',\n",
       " 'US-NH',\n",
       " 'US-NJ',\n",
       " 'US-NM',\n",
       " 'US-NY',\n",
       " 'US-NC',\n",
       " 'US-ND',\n",
       " 'US-OH',\n",
       " 'US-OK',\n",
       " 'US-OR',\n",
       " 'US-PA',\n",
       " 'US-RI',\n",
       " 'US-SC',\n",
       " 'US-SD',\n",
       " 'US-TN',\n",
       " 'US-TX',\n",
       " 'US-UT',\n",
       " 'US-VT',\n",
       " 'US-VA',\n",
       " 'US-WA',\n",
       " 'US-WV',\n",
       " 'US-WI',\n",
       " 'US-WY',\n",
       " 'US-DC',\n",
       " 'US-AS',\n",
       " 'US-GU',\n",
       " 'US-MP',\n",
       " 'US-PR',\n",
       " 'US-UM',\n",
       " 'US-VI']"
      ]
     },
     "execution_count": 46,
     "metadata": {},
     "output_type": "execute_result"
    }
   ],
   "source": [
    "us_states=df_us_states['state'].to_list()\n",
    "us_states"
   ]
  },
  {
   "cell_type": "code",
   "execution_count": 19,
   "metadata": {},
   "outputs": [],
   "source": [
    "from pytrends.request import TrendReq\n",
    "pytrends = TrendReq(hl='en-US', tz=60)"
   ]
  },
  {
   "cell_type": "code",
   "execution_count": null,
   "metadata": {},
   "outputs": [],
   "source": [
    "pytrends.build_payload(['Election results'], cat=0, timeframe='2020-01-01 2022-02-01', geo='US-AL', gprop='')\n",
    "df_1=pytrends.interest_over_time()\n",
    "df_1=df_1.drop(columns=['isPartial'])\n",
    "# rename column from \"election results\" to \"election results-AL\""
   ]
  },
  {
   "cell_type": "code",
   "execution_count": 59,
   "metadata": {},
   "outputs": [],
   "source": [
    "\n",
    "for i,j in kw_list,us_states:\n",
    "    pytrends.build_payload([i], cat=0, timeframe='2020-01-01 2022-02-01',  gprop='', geo=j)\n",
    "    df = pytrends.interest_over_time()\n",
    "    df = df.drop(columns=['isPartial'])\n",
    "    # rename column from \"i\" to \"i-j\"\n",
    "    df_1 = pd.merge(df_1,df, how = 'left',on = 'date')\n",
    "    df_1"
   ]
  },
  {
   "cell_type": "code",
   "execution_count": 9,
   "metadata": {},
   "outputs": [
    {
     "name": "stdout",
     "output_type": "stream",
     "text": [
      "                         Confirmed\n",
      "Province_State week               \n",
      "Alabama        2020-w03          0\n",
      "               2020-w04          0\n",
      "               2020-w05          0\n",
      "               2020-w06          0\n",
      "               2020-w07          0\n",
      "...                            ...\n",
      "Wyoming        2022-w03     919867\n",
      "               2022-w04     985974\n",
      "               2022-w05    1035528\n",
      "               2022-w06    1060894\n",
      "               2022-w07     152581\n",
      "\n",
      "[6438 rows x 1 columns]\n"
     ]
    }
   ],
   "source": [
    "import pandas as pd\n",
    "covid_daily = pd.read_csv('https://raw.githubusercontent.com/CSSEGISandData/COVID-19/master/csse_covid_19_data/csse_covid_19_time_series/time_series_covid19_confirmed_US.csv')\n",
    "dates = covid_daily.columns[11:]\n",
    "confirmed_df_long = covid_daily.melt(\n",
    "    id_vars=['Province_State', 'Country_Region','Admin2'],\n",
    "    value_vars=dates,\n",
    "    var_name='Date',\n",
    "    value_name='Confirmed'\n",
    ")\n",
    "us_covid_df=confirmed_df_long.groupby([ 'Province_State','Date']).sum().reset_index()\n",
    "us_covid_df['Date']=pd.to_datetime(us_covid_df['Date'])\n",
    "us_covid_df['week']=us_covid_df['Date'].dt.strftime('%Y-w%U')\n",
    "us_covid_df=us_covid_df.groupby(by=['Province_State','week']).sum()\n",
    "print(us_covid_df)\n"
   ]
  }
 ],
 "metadata": {
  "interpreter": {
   "hash": "05f0dade3e3a4dac9e7e10fb978df0e3c85d99899b17db1aa9d0c19f00ac8098"
  },
  "kernelspec": {
   "display_name": "Python 3.10.1 64-bit",
   "language": "python",
   "name": "python3"
  },
  "language_info": {
   "codemirror_mode": {
    "name": "ipython",
    "version": 3
   },
   "file_extension": ".py",
   "mimetype": "text/x-python",
   "name": "python",
   "nbconvert_exporter": "python",
   "pygments_lexer": "ipython3",
   "version": "3.10.1"
  },
  "orig_nbformat": 4
 },
 "nbformat": 4,
 "nbformat_minor": 2
}
